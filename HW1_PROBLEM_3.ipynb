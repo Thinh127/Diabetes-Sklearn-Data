{
  "nbformat": 4,
  "nbformat_minor": 0,
  "metadata": {
    "colab": {
      "name": "HW1_PROBLEM 3.ipynb",
      "provenance": [],
      "collapsed_sections": [],
      "mount_file_id": "1w5YNgeVrjqGP0m8nf28h_WRmyYuTK5Lz",
      "authorship_tag": "ABX9TyNpdqpzryK/tyIlcDHWes4B",
      "include_colab_link": true
    },
    "kernelspec": {
      "name": "python3",
      "display_name": "Python 3"
    },
    "language_info": {
      "name": "python"
    }
  },
  "cells": [
    {
      "cell_type": "markdown",
      "metadata": {
        "id": "view-in-github",
        "colab_type": "text"
      },
      "source": [
        "<a href=\"https://colab.research.google.com/github/Thinh127/Diabetes-Sklearn-Data/blob/main/HW1_PROBLEM_3.ipynb\" target=\"_parent\"><img src=\"https://colab.research.google.com/assets/colab-badge.svg\" alt=\"Open In Colab\"/></a>"
      ]
    },
    {
      "cell_type": "code",
      "metadata": {
        "id": "zgPz6Qna6CvS"
      },
      "source": [
        "# import needed libraries\n",
        "import pandas as pd\n",
        "import numpy as np\n",
        "import matplotlib.pyplot as plt\n",
        "import seaborn as sns\n",
        "from sklearn import datasets, linear_model\n",
        "from sklearn.metrics import mean_squared_error, r2_score\n",
        "from sklearn.model_selection import train_test_split\n",
        "from sklearn.linear_model import Ridge, Lasso"
      ],
      "execution_count": null,
      "outputs": []
    },
    {
      "cell_type": "markdown",
      "metadata": {
        "id": "WDwiDMouy53v"
      },
      "source": [
        "### Exploring data"
      ]
    },
    {
      "cell_type": "code",
      "metadata": {
        "id": "oSABjoXv6ce7",
        "colab": {
          "base_uri": "https://localhost:8080/"
        },
        "outputId": "cb9d548d-8ae0-4591-866c-fff2f51420d8"
      },
      "source": [
        "diabetes = datasets.load_diabetes(as_frame=True)\n",
        "print(\"Features: \", diabetes.feature_names)"
      ],
      "execution_count": null,
      "outputs": [
        {
          "output_type": "stream",
          "text": [
            "Features:  ['age', 'sex', 'bmi', 'bp', 's1', 's2', 's3', 's4', 's5', 's6']\n"
          ],
          "name": "stdout"
        }
      ]
    },
    {
      "cell_type": "code",
      "metadata": {
        "id": "Ho773SsG-HDi",
        "colab": {
          "base_uri": "https://localhost:8080/",
          "height": 204
        },
        "outputId": "0da23ade-d961-4121-d37b-6ae5ffe2be79"
      },
      "source": [
        "df = diabetes.data\n",
        "df.head()"
      ],
      "execution_count": null,
      "outputs": [
        {
          "output_type": "execute_result",
          "data": {
            "text/html": [
              "<div>\n",
              "<style scoped>\n",
              "    .dataframe tbody tr th:only-of-type {\n",
              "        vertical-align: middle;\n",
              "    }\n",
              "\n",
              "    .dataframe tbody tr th {\n",
              "        vertical-align: top;\n",
              "    }\n",
              "\n",
              "    .dataframe thead th {\n",
              "        text-align: right;\n",
              "    }\n",
              "</style>\n",
              "<table border=\"1\" class=\"dataframe\">\n",
              "  <thead>\n",
              "    <tr style=\"text-align: right;\">\n",
              "      <th></th>\n",
              "      <th>age</th>\n",
              "      <th>sex</th>\n",
              "      <th>bmi</th>\n",
              "      <th>bp</th>\n",
              "      <th>s1</th>\n",
              "      <th>s2</th>\n",
              "      <th>s3</th>\n",
              "      <th>s4</th>\n",
              "      <th>s5</th>\n",
              "      <th>s6</th>\n",
              "    </tr>\n",
              "  </thead>\n",
              "  <tbody>\n",
              "    <tr>\n",
              "      <th>0</th>\n",
              "      <td>0.038076</td>\n",
              "      <td>0.050680</td>\n",
              "      <td>0.061696</td>\n",
              "      <td>0.021872</td>\n",
              "      <td>-0.044223</td>\n",
              "      <td>-0.034821</td>\n",
              "      <td>-0.043401</td>\n",
              "      <td>-0.002592</td>\n",
              "      <td>0.019908</td>\n",
              "      <td>-0.017646</td>\n",
              "    </tr>\n",
              "    <tr>\n",
              "      <th>1</th>\n",
              "      <td>-0.001882</td>\n",
              "      <td>-0.044642</td>\n",
              "      <td>-0.051474</td>\n",
              "      <td>-0.026328</td>\n",
              "      <td>-0.008449</td>\n",
              "      <td>-0.019163</td>\n",
              "      <td>0.074412</td>\n",
              "      <td>-0.039493</td>\n",
              "      <td>-0.068330</td>\n",
              "      <td>-0.092204</td>\n",
              "    </tr>\n",
              "    <tr>\n",
              "      <th>2</th>\n",
              "      <td>0.085299</td>\n",
              "      <td>0.050680</td>\n",
              "      <td>0.044451</td>\n",
              "      <td>-0.005671</td>\n",
              "      <td>-0.045599</td>\n",
              "      <td>-0.034194</td>\n",
              "      <td>-0.032356</td>\n",
              "      <td>-0.002592</td>\n",
              "      <td>0.002864</td>\n",
              "      <td>-0.025930</td>\n",
              "    </tr>\n",
              "    <tr>\n",
              "      <th>3</th>\n",
              "      <td>-0.089063</td>\n",
              "      <td>-0.044642</td>\n",
              "      <td>-0.011595</td>\n",
              "      <td>-0.036656</td>\n",
              "      <td>0.012191</td>\n",
              "      <td>0.024991</td>\n",
              "      <td>-0.036038</td>\n",
              "      <td>0.034309</td>\n",
              "      <td>0.022692</td>\n",
              "      <td>-0.009362</td>\n",
              "    </tr>\n",
              "    <tr>\n",
              "      <th>4</th>\n",
              "      <td>0.005383</td>\n",
              "      <td>-0.044642</td>\n",
              "      <td>-0.036385</td>\n",
              "      <td>0.021872</td>\n",
              "      <td>0.003935</td>\n",
              "      <td>0.015596</td>\n",
              "      <td>0.008142</td>\n",
              "      <td>-0.002592</td>\n",
              "      <td>-0.031991</td>\n",
              "      <td>-0.046641</td>\n",
              "    </tr>\n",
              "  </tbody>\n",
              "</table>\n",
              "</div>"
            ],
            "text/plain": [
              "        age       sex       bmi  ...        s4        s5        s6\n",
              "0  0.038076  0.050680  0.061696  ... -0.002592  0.019908 -0.017646\n",
              "1 -0.001882 -0.044642 -0.051474  ... -0.039493 -0.068330 -0.092204\n",
              "2  0.085299  0.050680  0.044451  ... -0.002592  0.002864 -0.025930\n",
              "3 -0.089063 -0.044642 -0.011595  ...  0.034309  0.022692 -0.009362\n",
              "4  0.005383 -0.044642 -0.036385  ... -0.002592 -0.031991 -0.046641\n",
              "\n",
              "[5 rows x 10 columns]"
            ]
          },
          "metadata": {
            "tags": []
          },
          "execution_count": 21
        }
      ]
    },
    {
      "cell_type": "code",
      "metadata": {
        "colab": {
          "base_uri": "https://localhost:8080/"
        },
        "id": "cFdBsJeKzA9s",
        "outputId": "331e2ae7-70fd-455b-f816-b2a0fa70e397"
      },
      "source": [
        "df.drop(columns='sex', inplace=True)"
      ],
      "execution_count": null,
      "outputs": [
        {
          "output_type": "stream",
          "text": [
            "/usr/local/lib/python3.7/dist-packages/pandas/core/frame.py:4174: SettingWithCopyWarning: \n",
            "A value is trying to be set on a copy of a slice from a DataFrame\n",
            "\n",
            "See the caveats in the documentation: https://pandas.pydata.org/pandas-docs/stable/user_guide/indexing.html#returning-a-view-versus-a-copy\n",
            "  errors=errors,\n"
          ],
          "name": "stderr"
        }
      ]
    },
    {
      "cell_type": "code",
      "metadata": {
        "id": "xMZaIKN4TWhk",
        "colab": {
          "base_uri": "https://localhost:8080/"
        },
        "outputId": "6d6ec0c2-f525-45fb-955d-6525071c7c87"
      },
      "source": [
        "df.nunique()"
      ],
      "execution_count": null,
      "outputs": [
        {
          "output_type": "execute_result",
          "data": {
            "text/plain": [
              "age     58\n",
              "bmi    163\n",
              "bp     100\n",
              "s1     141\n",
              "s2     302\n",
              "s3      63\n",
              "s4      66\n",
              "s5     184\n",
              "s6      56\n",
              "dtype: int64"
            ]
          },
          "metadata": {
            "tags": []
          },
          "execution_count": 23
        }
      ]
    },
    {
      "cell_type": "code",
      "metadata": {
        "id": "dQz2e93hUTUn",
        "colab": {
          "base_uri": "https://localhost:8080/",
          "height": 297
        },
        "outputId": "8738c222-bb6f-4e77-f306-16831428fdd4"
      },
      "source": [
        "df.describe()"
      ],
      "execution_count": null,
      "outputs": [
        {
          "output_type": "execute_result",
          "data": {
            "text/html": [
              "<div>\n",
              "<style scoped>\n",
              "    .dataframe tbody tr th:only-of-type {\n",
              "        vertical-align: middle;\n",
              "    }\n",
              "\n",
              "    .dataframe tbody tr th {\n",
              "        vertical-align: top;\n",
              "    }\n",
              "\n",
              "    .dataframe thead th {\n",
              "        text-align: right;\n",
              "    }\n",
              "</style>\n",
              "<table border=\"1\" class=\"dataframe\">\n",
              "  <thead>\n",
              "    <tr style=\"text-align: right;\">\n",
              "      <th></th>\n",
              "      <th>age</th>\n",
              "      <th>bmi</th>\n",
              "      <th>bp</th>\n",
              "      <th>s1</th>\n",
              "      <th>s2</th>\n",
              "      <th>s3</th>\n",
              "      <th>s4</th>\n",
              "      <th>s5</th>\n",
              "      <th>s6</th>\n",
              "    </tr>\n",
              "  </thead>\n",
              "  <tbody>\n",
              "    <tr>\n",
              "      <th>count</th>\n",
              "      <td>4.420000e+02</td>\n",
              "      <td>4.420000e+02</td>\n",
              "      <td>4.420000e+02</td>\n",
              "      <td>4.420000e+02</td>\n",
              "      <td>4.420000e+02</td>\n",
              "      <td>4.420000e+02</td>\n",
              "      <td>4.420000e+02</td>\n",
              "      <td>4.420000e+02</td>\n",
              "      <td>4.420000e+02</td>\n",
              "    </tr>\n",
              "    <tr>\n",
              "      <th>mean</th>\n",
              "      <td>-3.634285e-16</td>\n",
              "      <td>-8.045349e-16</td>\n",
              "      <td>1.281655e-16</td>\n",
              "      <td>-8.835316e-17</td>\n",
              "      <td>1.327024e-16</td>\n",
              "      <td>-4.574646e-16</td>\n",
              "      <td>3.777301e-16</td>\n",
              "      <td>-3.830854e-16</td>\n",
              "      <td>-3.412882e-16</td>\n",
              "    </tr>\n",
              "    <tr>\n",
              "      <th>std</th>\n",
              "      <td>4.761905e-02</td>\n",
              "      <td>4.761905e-02</td>\n",
              "      <td>4.761905e-02</td>\n",
              "      <td>4.761905e-02</td>\n",
              "      <td>4.761905e-02</td>\n",
              "      <td>4.761905e-02</td>\n",
              "      <td>4.761905e-02</td>\n",
              "      <td>4.761905e-02</td>\n",
              "      <td>4.761905e-02</td>\n",
              "    </tr>\n",
              "    <tr>\n",
              "      <th>min</th>\n",
              "      <td>-1.072256e-01</td>\n",
              "      <td>-9.027530e-02</td>\n",
              "      <td>-1.123996e-01</td>\n",
              "      <td>-1.267807e-01</td>\n",
              "      <td>-1.156131e-01</td>\n",
              "      <td>-1.023071e-01</td>\n",
              "      <td>-7.639450e-02</td>\n",
              "      <td>-1.260974e-01</td>\n",
              "      <td>-1.377672e-01</td>\n",
              "    </tr>\n",
              "    <tr>\n",
              "      <th>25%</th>\n",
              "      <td>-3.729927e-02</td>\n",
              "      <td>-3.422907e-02</td>\n",
              "      <td>-3.665645e-02</td>\n",
              "      <td>-3.424784e-02</td>\n",
              "      <td>-3.035840e-02</td>\n",
              "      <td>-3.511716e-02</td>\n",
              "      <td>-3.949338e-02</td>\n",
              "      <td>-3.324879e-02</td>\n",
              "      <td>-3.317903e-02</td>\n",
              "    </tr>\n",
              "    <tr>\n",
              "      <th>50%</th>\n",
              "      <td>5.383060e-03</td>\n",
              "      <td>-7.283766e-03</td>\n",
              "      <td>-5.670611e-03</td>\n",
              "      <td>-4.320866e-03</td>\n",
              "      <td>-3.819065e-03</td>\n",
              "      <td>-6.584468e-03</td>\n",
              "      <td>-2.592262e-03</td>\n",
              "      <td>-1.947634e-03</td>\n",
              "      <td>-1.077698e-03</td>\n",
              "    </tr>\n",
              "    <tr>\n",
              "      <th>75%</th>\n",
              "      <td>3.807591e-02</td>\n",
              "      <td>3.124802e-02</td>\n",
              "      <td>3.564384e-02</td>\n",
              "      <td>2.835801e-02</td>\n",
              "      <td>2.984439e-02</td>\n",
              "      <td>2.931150e-02</td>\n",
              "      <td>3.430886e-02</td>\n",
              "      <td>3.243323e-02</td>\n",
              "      <td>2.791705e-02</td>\n",
              "    </tr>\n",
              "    <tr>\n",
              "      <th>max</th>\n",
              "      <td>1.107267e-01</td>\n",
              "      <td>1.705552e-01</td>\n",
              "      <td>1.320442e-01</td>\n",
              "      <td>1.539137e-01</td>\n",
              "      <td>1.987880e-01</td>\n",
              "      <td>1.811791e-01</td>\n",
              "      <td>1.852344e-01</td>\n",
              "      <td>1.335990e-01</td>\n",
              "      <td>1.356118e-01</td>\n",
              "    </tr>\n",
              "  </tbody>\n",
              "</table>\n",
              "</div>"
            ],
            "text/plain": [
              "                age           bmi  ...            s5            s6\n",
              "count  4.420000e+02  4.420000e+02  ...  4.420000e+02  4.420000e+02\n",
              "mean  -3.634285e-16 -8.045349e-16  ... -3.830854e-16 -3.412882e-16\n",
              "std    4.761905e-02  4.761905e-02  ...  4.761905e-02  4.761905e-02\n",
              "min   -1.072256e-01 -9.027530e-02  ... -1.260974e-01 -1.377672e-01\n",
              "25%   -3.729927e-02 -3.422907e-02  ... -3.324879e-02 -3.317903e-02\n",
              "50%    5.383060e-03 -7.283766e-03  ... -1.947634e-03 -1.077698e-03\n",
              "75%    3.807591e-02  3.124802e-02  ...  3.243323e-02  2.791705e-02\n",
              "max    1.107267e-01  1.705552e-01  ...  1.335990e-01  1.356118e-01\n",
              "\n",
              "[8 rows x 9 columns]"
            ]
          },
          "metadata": {
            "tags": []
          },
          "execution_count": 24
        }
      ]
    },
    {
      "cell_type": "markdown",
      "metadata": {
        "id": "GPSMUBYd7IPT"
      },
      "source": [
        "###**(a)** Split the dataset to training set and test set using the ratio training set : test set = 8: 2"
      ]
    },
    {
      "cell_type": "code",
      "metadata": {
        "id": "vimJqWZ7Ur-U",
        "colab": {
          "base_uri": "https://localhost:8080/"
        },
        "outputId": "73fa3cca-526f-4dbe-bff1-bd5466d4d6cb"
      },
      "source": [
        "# Hợp các features lại thành một ma trận. Lấy nhãn y\n",
        "X, y = datasets.load_diabetes(return_X_y=True)\n",
        "\n",
        "print(X.shape)\n",
        "print(y.shape)"
      ],
      "execution_count": null,
      "outputs": [
        {
          "output_type": "stream",
          "text": [
            "(442, 10)\n",
            "(442,)\n"
          ],
          "name": "stdout"
        }
      ]
    },
    {
      "cell_type": "code",
      "metadata": {
        "id": "p5WkuXl0VnFi",
        "colab": {
          "base_uri": "https://localhost:8080/"
        },
        "outputId": "f5d53f19-0b38-407f-fed4-74a469fa42ce"
      },
      "source": [
        "# Chia trainset, testset\n",
        "Xtrain, Xtest, ytrain, ytest = train_test_split(X, y, test_size=0.2, random_state=12)\n",
        "\n",
        "print(Xtrain.shape, Xtest.shape)\n",
        "print(ytrain.shape, ytest.shape)"
      ],
      "execution_count": null,
      "outputs": [
        {
          "output_type": "stream",
          "text": [
            "(353, 10) (89, 10)\n",
            "(353,) (89,)\n"
          ],
          "name": "stdout"
        }
      ]
    },
    {
      "cell_type": "markdown",
      "metadata": {
        "id": "G3hSjX1CeuT4"
      },
      "source": [
        "###**(b)** Use scikit-learn’s Logistic Regression model linear model.LinearRegression() to train a model using the training set. What are the coefficients (including the intercept) that you get from the model? What is the coefficient of determination (R2) of the model?"
      ]
    },
    {
      "cell_type": "code",
      "metadata": {
        "id": "Dr1voqexWH5B",
        "colab": {
          "base_uri": "https://localhost:8080/"
        },
        "outputId": "897890f2-cc49-4e3d-de6a-1162b8c041c0"
      },
      "source": [
        "# Training model\n",
        "model = linear_model.LinearRegression().fit(Xtrain, ytrain)\n",
        "\n",
        "# Giá trị coefficients\n",
        "B0 = model.intercept_\n",
        "B_features = model.coef_\n",
        "\n",
        "print(f\"Giá trị Intercept : {B0}\")\n",
        "print(f\"Giá trị Coef ứng với mỗi feature: {B_features}\")"
      ],
      "execution_count": null,
      "outputs": [
        {
          "output_type": "stream",
          "text": [
            "Giá trị Intercept : 152.8957921786411\n",
            "Giá trị Coef ứng với mỗi feature: [ -53.93018274 -228.98080046  535.28575731  350.37336183 -736.26525692\n",
            "  427.46643484   94.82413254  184.24112144  721.94405061  115.4600179 ]\n"
          ],
          "name": "stdout"
        }
      ]
    },
    {
      "cell_type": "code",
      "metadata": {
        "id": "TMgoinmQZGe1",
        "colab": {
          "base_uri": "https://localhost:8080/"
        },
        "outputId": "c8a61403-1ba6-43bd-a544-cc2226b945f3"
      },
      "source": [
        "# Coefficient of determination (R2) of the model?\n",
        "train_pre = model.predict(Xtrain)\n",
        "test_pre = model.predict(Xtest)\n",
        "r2_train = r2_score(ytrain, model.predict(Xtrain))\n",
        "r2_test = r2_score(ytest, model.predict(Xtest))\n",
        "\n",
        "print(\"Coefficient of determination on trainset: \", r2_train)\n",
        "print(\"Coefficient of determination on testset: \", r2_test)"
      ],
      "execution_count": null,
      "outputs": [
        {
          "output_type": "stream",
          "text": [
            "Coefficient of determination on trainset:  0.5424703261420212\n",
            "Coefficient of determination on testset:  0.38526246112295326\n"
          ],
          "name": "stdout"
        }
      ]
    },
    {
      "cell_type": "markdown",
      "metadata": {
        "id": "Voc4KmvYfYnf"
      },
      "source": [
        "###**(c)** Calculate the Mean Squared Error of the model on the test set."
      ]
    },
    {
      "cell_type": "code",
      "metadata": {
        "id": "XvXixk_4fckV",
        "colab": {
          "base_uri": "https://localhost:8080/"
        },
        "outputId": "a77720f4-0fe7-420c-a31d-167254101203"
      },
      "source": [
        "MSE = mean_squared_error(ytest, test_pre)\n",
        "print(\"Mean Squared Error of the model on the test set: \", MSE)"
      ],
      "execution_count": null,
      "outputs": [
        {
          "output_type": "stream",
          "text": [
            "Mean Squared Error of the model on the test set:  3108.2401194115696\n"
          ],
          "name": "stdout"
        }
      ]
    },
    {
      "cell_type": "markdown",
      "metadata": {
        "id": "8Kd-bbpVf-qx"
      },
      "source": [
        "###**(d)** Use l_2 regularization (linear model.Ridge()) with parameter alpha in the list [0.001, 0.01, 0.1, 1, 10, 100, 1000]. Calculate the Mean Squared Error of the model on the test set for each value of alpha"
      ]
    },
    {
      "cell_type": "code",
      "metadata": {
        "id": "-XgIIEi1fyMA",
        "colab": {
          "base_uri": "https://localhost:8080/"
        },
        "outputId": "cfa5d456-ab02-43aa-fbff-01bee392d292"
      },
      "source": [
        "alpha = [0.001, 0.01, 0.1, 1, 10, 100, 1000]\n",
        "\n",
        "# Hàm trả về MSE cho mỗi alpha chả model Ridge\n",
        "def MyRidge(alpha, Xtrain, Xtest, ytrain, ytest):\n",
        "  model = Ridge(alpha=alpha).fit(Xtrain, ytrain)\n",
        "  y_pre = model.predict(Xtest)\n",
        "  return round(mean_squared_error(ytest, y_pre), 3)\n",
        "\n",
        "for i in alpha: \n",
        "  print(f\"alpha = {i}; MSE = {MyRidge(i, Xtrain, Xtest, ytrain, ytest)}:\")"
      ],
      "execution_count": null,
      "outputs": [
        {
          "output_type": "stream",
          "text": [
            "alpha = 0.001; MSE = 3109.917:\n",
            "alpha = 0.01; MSE = 3119.633:\n",
            "alpha = 0.1; MSE = 3120.66:\n",
            "alpha = 1; MSE = 3384.682:\n",
            "alpha = 10; MSE = 4429.874:\n",
            "alpha = 100; MSE = 4999.235:\n",
            "alpha = 1000; MSE = 5083.183:\n"
          ],
          "name": "stdout"
        }
      ]
    },
    {
      "cell_type": "markdown",
      "metadata": {
        "id": "zajNm8JBmR0c"
      },
      "source": [
        "###**(e)** Use l 1 regularization (linear model.Lasso()) with parameter alpha in the list [0.001, 0.01, 0.1, 1, 10, 100, 1000]. Calculate the Mean Squared Error of the model on the test set for each value of alpha."
      ]
    },
    {
      "cell_type": "code",
      "metadata": {
        "id": "nxFq9cq_mY81",
        "colab": {
          "base_uri": "https://localhost:8080/"
        },
        "outputId": "c80f86c9-5632-49e5-9735-ae1fac0decd8"
      },
      "source": [
        "alpha = [0.001, 0.01, 0.1, 1, 10, 100, 1000]\n",
        "\n",
        "\n",
        "# Hàm trả về MSE cho mỗi alpha chả model Lasso\n",
        "def MyLasso(alpha, Xtrain, Xtest, ytrain, ytest):\n",
        "  model = Lasso(alpha=alpha).fit(Xtrain, ytrain)\n",
        "  y_pre = model.predict(Xtest)\n",
        "  return round(mean_squared_error(ytest, y_pre), 3)\n",
        "\n",
        "for i in alpha:\n",
        "  print(f\"alpha = {i}; MSE = {MyLasso(i, Xtrain, Xtest, ytrain, ytest)}:\")"
      ],
      "execution_count": null,
      "outputs": [
        {
          "output_type": "stream",
          "text": [
            "alpha = 0.001; MSE = 3108.548:\n",
            "alpha = 0.01; MSE = 3116.556:\n",
            "alpha = 0.1; MSE = 3083.442:\n",
            "alpha = 1; MSE = 3495.662:\n",
            "alpha = 10; MSE = 5092.954:\n",
            "alpha = 100; MSE = 5092.954:\n",
            "alpha = 1000; MSE = 5092.954:\n"
          ],
          "name": "stdout"
        }
      ]
    }
  ]
}